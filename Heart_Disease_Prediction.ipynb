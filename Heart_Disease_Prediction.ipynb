{
  "nbformat": 4,
  "nbformat_minor": 0,
  "metadata": {
    "colab": {
      "name": "Heart Disease Prediction.ipynb",
      "provenance": [],
      "collapsed_sections": [],
      "authorship_tag": "ABX9TyPAdtW2gGQwPS+zjgDKJFAm",
      "include_colab_link": true
    },
    "kernelspec": {
      "name": "python3",
      "display_name": "Python 3"
    }
  },
  "cells": [
    {
      "cell_type": "markdown",
      "metadata": {
        "id": "view-in-github",
        "colab_type": "text"
      },
      "source": [
        "<a href=\"https://colab.research.google.com/github/arkham7638/cclgproji/blob/master/Heart_Disease_Prediction.ipynb\" target=\"_parent\"><img src=\"https://colab.research.google.com/assets/colab-badge.svg\" alt=\"Open In Colab\"/></a>"
      ]
    },
    {
      "cell_type": "markdown",
      "metadata": {
        "id": "kDrKXYmzjI3x",
        "colab_type": "text"
      },
      "source": [
        "# *Introduction :*\n",
        "<br>\n",
        "To correctly predict whether the person has heart disease or not bassed on age , height etc. using python with sklearn.We will try to use this data to create a model which tries predict if a patient has this disease or not. We will use logistic regression (classification) algorithm."
      ]
    },
    {
      "cell_type": "code",
      "metadata": {
        "id": "0s4YfHF9gPYC",
        "colab_type": "code",
        "colab": {}
      },
      "source": [
        "# Discription : This project helps in giving the prediction regarding whether the person is having a cardiovascular disease\n",
        "#We will using the python programming language as it most versatile language \n",
        "#We will use the as NumPy is a library for the Python programming language, adding support for large, multi-dimensional arrays and matrices, along with a large collection of high-level mathematical functions to operate on these arrays.\n",
        "#We will also use Scikit-learn is a free software machine learning library for the Python programming language. "
      ],
      "execution_count": null,
      "outputs": []
    },
    {
      "cell_type": "code",
      "metadata": {
        "id": "iJ7BN0_ChymY",
        "colab_type": "code",
        "colab": {
          "base_uri": "https://localhost:8080/",
          "height": 70
        },
        "outputId": "15b767b3-2423-46e9-be77-f6299647a546"
      },
      "source": [
        "import numpy as np\n",
        "import pandas as pd\n",
        "import matplotlib.pyplot as plt\n",
        "import seaborn as sns\n",
        "from sklearn.linear_model import LogisticRegression\n",
        "from sklearn.model_selection import train_test_split\n",
        "from matplotlib import cbook\n",
        "from matplotlib import cm\n",
        "from matplotlib.colors import LightSource \n"
      ],
      "execution_count": 4,
      "outputs": [
        {
          "output_type": "stream",
          "text": [
            "/usr/local/lib/python3.6/dist-packages/statsmodels/tools/_testing.py:19: FutureWarning: pandas.util.testing is deprecated. Use the functions in the public API at pandas.testing instead.\n",
            "  import pandas.util.testing as tm\n"
          ],
          "name": "stderr"
        }
      ]
    },
    {
      "cell_type": "code",
      "metadata": {
        "id": "-n5ewL3EoWEv",
        "colab_type": "code",
        "colab": {
          "resources": {
            "http://localhost:8080/nbextensions/google.colab/files.js": {
              "data": "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",
              "ok": true,
              "headers": [
                [
                  "content-type",
                  "application/javascript"
                ]
              ],
              "status": 200,
              "status_text": ""
            }
          },
          "base_uri": "https://localhost:8080/",
          "height": 73
        },
        "outputId": "6ce03b03-e9c9-44c0-951d-f82ce4ad573c"
      },
      "source": [
        "# Import files from the device\n",
        "from google.colab import files\n",
        "uploaded = files.upload()"
      ],
      "execution_count": 6,
      "outputs": [
        {
          "output_type": "display_data",
          "data": {
            "text/html": [
              "\n",
              "     <input type=\"file\" id=\"files-6c91d452-17a4-4b02-a750-6f8048d74137\" name=\"files[]\" multiple disabled\n",
              "        style=\"border:none\" />\n",
              "     <output id=\"result-6c91d452-17a4-4b02-a750-6f8048d74137\">\n",
              "      Upload widget is only available when the cell has been executed in the\n",
              "      current browser session. Please rerun this cell to enable.\n",
              "      </output>\n",
              "      <script src=\"/nbextensions/google.colab/files.js\"></script> "
            ],
            "text/plain": [
              "<IPython.core.display.HTML object>"
            ]
          },
          "metadata": {
            "tags": []
          }
        },
        {
          "output_type": "stream",
          "text": [
            "Saving heart.csv to heart.csv\n"
          ],
          "name": "stdout"
        }
      ]
    },
    {
      "cell_type": "markdown",
      "metadata": {
        "id": "pwxfwAWDpjYG",
        "colab_type": "text"
      },
      "source": [
        "# **Read The Files**"
      ]
    },
    {
      "cell_type": "markdown",
      "metadata": {
        "id": "hxbPIvqzqx0w",
        "colab_type": "text"
      },
      "source": [
        "-This block is used to tell how to we are readin the data "
      ]
    },
    {
      "cell_type": "code",
      "metadata": {
        "id": "zndkEi8orBat",
        "colab_type": "code",
        "colab": {
          "base_uri": "https://localhost:8080/",
          "height": 225
        },
        "outputId": "e62c6605-2e8b-4616-b1ae-a501e215b453"
      },
      "source": [
        "df = pd.read_csv('heart.csv')\n",
        "\n",
        "# First 6 rows of our data\n",
        "df.head(6)"
      ],
      "execution_count": 20,
      "outputs": [
        {
          "output_type": "execute_result",
          "data": {
            "text/html": [
              "<div>\n",
              "<style scoped>\n",
              "    .dataframe tbody tr th:only-of-type {\n",
              "        vertical-align: middle;\n",
              "    }\n",
              "\n",
              "    .dataframe tbody tr th {\n",
              "        vertical-align: top;\n",
              "    }\n",
              "\n",
              "    .dataframe thead th {\n",
              "        text-align: right;\n",
              "    }\n",
              "</style>\n",
              "<table border=\"1\" class=\"dataframe\">\n",
              "  <thead>\n",
              "    <tr style=\"text-align: right;\">\n",
              "      <th></th>\n",
              "      <th>age</th>\n",
              "      <th>sex</th>\n",
              "      <th>cp</th>\n",
              "      <th>trestbps</th>\n",
              "      <th>chol</th>\n",
              "      <th>fbs</th>\n",
              "      <th>restecg</th>\n",
              "      <th>thalach</th>\n",
              "      <th>exang</th>\n",
              "      <th>oldpeak</th>\n",
              "      <th>slope</th>\n",
              "      <th>ca</th>\n",
              "      <th>thal</th>\n",
              "      <th>target</th>\n",
              "    </tr>\n",
              "  </thead>\n",
              "  <tbody>\n",
              "    <tr>\n",
              "      <th>0</th>\n",
              "      <td>63</td>\n",
              "      <td>1</td>\n",
              "      <td>3</td>\n",
              "      <td>145</td>\n",
              "      <td>233</td>\n",
              "      <td>1</td>\n",
              "      <td>0</td>\n",
              "      <td>150</td>\n",
              "      <td>0</td>\n",
              "      <td>2.3</td>\n",
              "      <td>0</td>\n",
              "      <td>0</td>\n",
              "      <td>1</td>\n",
              "      <td>1</td>\n",
              "    </tr>\n",
              "    <tr>\n",
              "      <th>1</th>\n",
              "      <td>37</td>\n",
              "      <td>1</td>\n",
              "      <td>2</td>\n",
              "      <td>130</td>\n",
              "      <td>250</td>\n",
              "      <td>0</td>\n",
              "      <td>1</td>\n",
              "      <td>187</td>\n",
              "      <td>0</td>\n",
              "      <td>3.5</td>\n",
              "      <td>0</td>\n",
              "      <td>0</td>\n",
              "      <td>2</td>\n",
              "      <td>1</td>\n",
              "    </tr>\n",
              "    <tr>\n",
              "      <th>2</th>\n",
              "      <td>41</td>\n",
              "      <td>0</td>\n",
              "      <td>1</td>\n",
              "      <td>130</td>\n",
              "      <td>204</td>\n",
              "      <td>0</td>\n",
              "      <td>0</td>\n",
              "      <td>172</td>\n",
              "      <td>0</td>\n",
              "      <td>1.4</td>\n",
              "      <td>2</td>\n",
              "      <td>0</td>\n",
              "      <td>2</td>\n",
              "      <td>1</td>\n",
              "    </tr>\n",
              "    <tr>\n",
              "      <th>3</th>\n",
              "      <td>56</td>\n",
              "      <td>1</td>\n",
              "      <td>1</td>\n",
              "      <td>120</td>\n",
              "      <td>236</td>\n",
              "      <td>0</td>\n",
              "      <td>1</td>\n",
              "      <td>178</td>\n",
              "      <td>0</td>\n",
              "      <td>0.8</td>\n",
              "      <td>2</td>\n",
              "      <td>0</td>\n",
              "      <td>2</td>\n",
              "      <td>1</td>\n",
              "    </tr>\n",
              "    <tr>\n",
              "      <th>4</th>\n",
              "      <td>57</td>\n",
              "      <td>0</td>\n",
              "      <td>0</td>\n",
              "      <td>120</td>\n",
              "      <td>354</td>\n",
              "      <td>0</td>\n",
              "      <td>1</td>\n",
              "      <td>163</td>\n",
              "      <td>1</td>\n",
              "      <td>0.6</td>\n",
              "      <td>2</td>\n",
              "      <td>0</td>\n",
              "      <td>2</td>\n",
              "      <td>1</td>\n",
              "    </tr>\n",
              "    <tr>\n",
              "      <th>5</th>\n",
              "      <td>57</td>\n",
              "      <td>1</td>\n",
              "      <td>0</td>\n",
              "      <td>140</td>\n",
              "      <td>192</td>\n",
              "      <td>0</td>\n",
              "      <td>1</td>\n",
              "      <td>148</td>\n",
              "      <td>0</td>\n",
              "      <td>0.4</td>\n",
              "      <td>1</td>\n",
              "      <td>0</td>\n",
              "      <td>1</td>\n",
              "      <td>1</td>\n",
              "    </tr>\n",
              "  </tbody>\n",
              "</table>\n",
              "</div>"
            ],
            "text/plain": [
              "   age  sex  cp  trestbps  chol  fbs  ...  exang  oldpeak  slope  ca  thal  target\n",
              "0   63    1   3       145   233    1  ...      0      2.3      0   0     1       1\n",
              "1   37    1   2       130   250    0  ...      0      3.5      0   0     2       1\n",
              "2   41    0   1       130   204    0  ...      0      1.4      2   0     2       1\n",
              "3   56    1   1       120   236    0  ...      0      0.8      2   0     2       1\n",
              "4   57    0   0       120   354    0  ...      1      0.6      2   0     2       1\n",
              "5   57    1   0       140   192    0  ...      0      0.4      1   0     1       1\n",
              "\n",
              "[6 rows x 14 columns]"
            ]
          },
          "metadata": {
            "tags": []
          },
          "execution_count": 20
        }
      ]
    },
    {
      "cell_type": "code",
      "metadata": {
        "id": "ozEcvnf13bGM",
        "colab_type": "code",
        "colab": {
          "base_uri": "https://localhost:8080/",
          "height": 284
        },
        "outputId": "a0082ea6-4bbb-4f10-b378-ae8b1c95926c"
      },
      "source": [
        "#View some basic statistics\n",
        "df.describe()"
      ],
      "execution_count": 21,
      "outputs": [
        {
          "output_type": "execute_result",
          "data": {
            "text/html": [
              "<div>\n",
              "<style scoped>\n",
              "    .dataframe tbody tr th:only-of-type {\n",
              "        vertical-align: middle;\n",
              "    }\n",
              "\n",
              "    .dataframe tbody tr th {\n",
              "        vertical-align: top;\n",
              "    }\n",
              "\n",
              "    .dataframe thead th {\n",
              "        text-align: right;\n",
              "    }\n",
              "</style>\n",
              "<table border=\"1\" class=\"dataframe\">\n",
              "  <thead>\n",
              "    <tr style=\"text-align: right;\">\n",
              "      <th></th>\n",
              "      <th>age</th>\n",
              "      <th>sex</th>\n",
              "      <th>cp</th>\n",
              "      <th>trestbps</th>\n",
              "      <th>chol</th>\n",
              "      <th>fbs</th>\n",
              "      <th>restecg</th>\n",
              "      <th>thalach</th>\n",
              "      <th>exang</th>\n",
              "      <th>oldpeak</th>\n",
              "      <th>slope</th>\n",
              "      <th>ca</th>\n",
              "      <th>thal</th>\n",
              "      <th>target</th>\n",
              "    </tr>\n",
              "  </thead>\n",
              "  <tbody>\n",
              "    <tr>\n",
              "      <th>count</th>\n",
              "      <td>303.000000</td>\n",
              "      <td>303.000000</td>\n",
              "      <td>303.000000</td>\n",
              "      <td>303.000000</td>\n",
              "      <td>303.000000</td>\n",
              "      <td>303.000000</td>\n",
              "      <td>303.000000</td>\n",
              "      <td>303.000000</td>\n",
              "      <td>303.000000</td>\n",
              "      <td>303.000000</td>\n",
              "      <td>303.000000</td>\n",
              "      <td>303.000000</td>\n",
              "      <td>303.000000</td>\n",
              "      <td>303.000000</td>\n",
              "    </tr>\n",
              "    <tr>\n",
              "      <th>mean</th>\n",
              "      <td>54.366337</td>\n",
              "      <td>0.683168</td>\n",
              "      <td>0.966997</td>\n",
              "      <td>131.623762</td>\n",
              "      <td>246.264026</td>\n",
              "      <td>0.148515</td>\n",
              "      <td>0.528053</td>\n",
              "      <td>149.646865</td>\n",
              "      <td>0.326733</td>\n",
              "      <td>1.039604</td>\n",
              "      <td>1.399340</td>\n",
              "      <td>0.729373</td>\n",
              "      <td>2.313531</td>\n",
              "      <td>0.544554</td>\n",
              "    </tr>\n",
              "    <tr>\n",
              "      <th>std</th>\n",
              "      <td>9.082101</td>\n",
              "      <td>0.466011</td>\n",
              "      <td>1.032052</td>\n",
              "      <td>17.538143</td>\n",
              "      <td>51.830751</td>\n",
              "      <td>0.356198</td>\n",
              "      <td>0.525860</td>\n",
              "      <td>22.905161</td>\n",
              "      <td>0.469794</td>\n",
              "      <td>1.161075</td>\n",
              "      <td>0.616226</td>\n",
              "      <td>1.022606</td>\n",
              "      <td>0.612277</td>\n",
              "      <td>0.498835</td>\n",
              "    </tr>\n",
              "    <tr>\n",
              "      <th>min</th>\n",
              "      <td>29.000000</td>\n",
              "      <td>0.000000</td>\n",
              "      <td>0.000000</td>\n",
              "      <td>94.000000</td>\n",
              "      <td>126.000000</td>\n",
              "      <td>0.000000</td>\n",
              "      <td>0.000000</td>\n",
              "      <td>71.000000</td>\n",
              "      <td>0.000000</td>\n",
              "      <td>0.000000</td>\n",
              "      <td>0.000000</td>\n",
              "      <td>0.000000</td>\n",
              "      <td>0.000000</td>\n",
              "      <td>0.000000</td>\n",
              "    </tr>\n",
              "    <tr>\n",
              "      <th>25%</th>\n",
              "      <td>47.500000</td>\n",
              "      <td>0.000000</td>\n",
              "      <td>0.000000</td>\n",
              "      <td>120.000000</td>\n",
              "      <td>211.000000</td>\n",
              "      <td>0.000000</td>\n",
              "      <td>0.000000</td>\n",
              "      <td>133.500000</td>\n",
              "      <td>0.000000</td>\n",
              "      <td>0.000000</td>\n",
              "      <td>1.000000</td>\n",
              "      <td>0.000000</td>\n",
              "      <td>2.000000</td>\n",
              "      <td>0.000000</td>\n",
              "    </tr>\n",
              "    <tr>\n",
              "      <th>50%</th>\n",
              "      <td>55.000000</td>\n",
              "      <td>1.000000</td>\n",
              "      <td>1.000000</td>\n",
              "      <td>130.000000</td>\n",
              "      <td>240.000000</td>\n",
              "      <td>0.000000</td>\n",
              "      <td>1.000000</td>\n",
              "      <td>153.000000</td>\n",
              "      <td>0.000000</td>\n",
              "      <td>0.800000</td>\n",
              "      <td>1.000000</td>\n",
              "      <td>0.000000</td>\n",
              "      <td>2.000000</td>\n",
              "      <td>1.000000</td>\n",
              "    </tr>\n",
              "    <tr>\n",
              "      <th>75%</th>\n",
              "      <td>61.000000</td>\n",
              "      <td>1.000000</td>\n",
              "      <td>2.000000</td>\n",
              "      <td>140.000000</td>\n",
              "      <td>274.500000</td>\n",
              "      <td>0.000000</td>\n",
              "      <td>1.000000</td>\n",
              "      <td>166.000000</td>\n",
              "      <td>1.000000</td>\n",
              "      <td>1.600000</td>\n",
              "      <td>2.000000</td>\n",
              "      <td>1.000000</td>\n",
              "      <td>3.000000</td>\n",
              "      <td>1.000000</td>\n",
              "    </tr>\n",
              "    <tr>\n",
              "      <th>max</th>\n",
              "      <td>77.000000</td>\n",
              "      <td>1.000000</td>\n",
              "      <td>3.000000</td>\n",
              "      <td>200.000000</td>\n",
              "      <td>564.000000</td>\n",
              "      <td>1.000000</td>\n",
              "      <td>2.000000</td>\n",
              "      <td>202.000000</td>\n",
              "      <td>1.000000</td>\n",
              "      <td>6.200000</td>\n",
              "      <td>2.000000</td>\n",
              "      <td>4.000000</td>\n",
              "      <td>3.000000</td>\n",
              "      <td>1.000000</td>\n",
              "    </tr>\n",
              "  </tbody>\n",
              "</table>\n",
              "</div>"
            ],
            "text/plain": [
              "              age         sex          cp  ...          ca        thal      target\n",
              "count  303.000000  303.000000  303.000000  ...  303.000000  303.000000  303.000000\n",
              "mean    54.366337    0.683168    0.966997  ...    0.729373    2.313531    0.544554\n",
              "std      9.082101    0.466011    1.032052  ...    1.022606    0.612277    0.498835\n",
              "min     29.000000    0.000000    0.000000  ...    0.000000    0.000000    0.000000\n",
              "25%     47.500000    0.000000    0.000000  ...    0.000000    2.000000    0.000000\n",
              "50%     55.000000    1.000000    1.000000  ...    0.000000    2.000000    1.000000\n",
              "75%     61.000000    1.000000    2.000000  ...    1.000000    3.000000    1.000000\n",
              "max     77.000000    1.000000    3.000000  ...    4.000000    3.000000    1.000000\n",
              "\n",
              "[8 rows x 14 columns]"
            ]
          },
          "metadata": {
            "tags": []
          },
          "execution_count": 21
        }
      ]
    },
    {
      "cell_type": "markdown",
      "metadata": {
        "id": "OuGgoVtfsGFO",
        "colab_type": "text"
      },
      "source": [
        " # *Data Contains:*\n",
        "\n",
        "\n",
        "*   age - age in years\n",
        "*   sex - (1 = male; 0 = female)\n",
        "*   cp - chest pain\n",
        "*   trestbps -  blood pressure (in mm Hg on admission to the hospital)\n",
        "*   chol - serum cholestoral in mg/dl\n",
        "*   fbs - (fasting blood sugar > 120 mg/dl) (1 = true; 0 = false)\n",
        "*   restecg - resting electrocardiographic results\n",
        "*   thalach - maximum heart rate achieved\n",
        "*   exang - exercise induced angina (1 = yes; 0 = no)\n",
        "*   oldpeak - ST depression induced by exercise relative to rest\n",
        "*   slope - the slope of the peak exercise ST segment\n",
        "*   ca - number of major vessels (0-3) colored by flourosopy\n",
        "*   thal - 3 = normal; 6 = fixed defect; 7 = reversable defect\n",
        "*   target - have disease or not (1=yes, 0=no)\n",
        "\n",
        "\n",
        "\n",
        "\n",
        "\n",
        "\n",
        "\n",
        "\n",
        "\n",
        "\n",
        "\n"
      ]
    },
    {
      "cell_type": "markdown",
      "metadata": {
        "id": "lKmroSBoxSE4",
        "colab_type": "text"
      },
      "source": [
        "# *Data Exploration And Data Visualization* "
      ]
    },
    {
      "cell_type": "code",
      "metadata": {
        "id": "oTz_u-bkwdPG",
        "colab_type": "code",
        "colab": {
          "base_uri": "https://localhost:8080/",
          "height": 34
        },
        "outputId": "7031f6da-e93b-4e12-884b-05a6ef5ee98c"
      },
      "source": [
        "#Get the shape of the data\n",
        "df.shape"
      ],
      "execution_count": null,
      "outputs": [
        {
          "output_type": "execute_result",
          "data": {
            "text/plain": [
              "(303, 14)"
            ]
          },
          "metadata": {
            "tags": []
          },
          "execution_count": 6
        }
      ]
    },
    {
      "cell_type": "code",
      "metadata": {
        "id": "IqAnMRajwoUg",
        "colab_type": "code",
        "colab": {
          "base_uri": "https://localhost:8080/",
          "height": 269
        },
        "outputId": "f2cc3ef0-a12c-432d-f723-bb03e6da4d5b"
      },
      "source": [
        "#Get the null value in the data set\n",
        "df.isna().sum()"
      ],
      "execution_count": null,
      "outputs": [
        {
          "output_type": "execute_result",
          "data": {
            "text/plain": [
              "age         0\n",
              "sex         0\n",
              "cp          0\n",
              "trestbps    0\n",
              "chol        0\n",
              "fbs         0\n",
              "restecg     0\n",
              "thalach     0\n",
              "exang       0\n",
              "oldpeak     0\n",
              "slope       0\n",
              "ca          0\n",
              "thal        0\n",
              "target      0\n",
              "dtype: int64"
            ]
          },
          "metadata": {
            "tags": []
          },
          "execution_count": 7
        }
      ]
    },
    {
      "cell_type": "code",
      "metadata": {
        "id": "SciJL9C2xBM4",
        "colab_type": "code",
        "colab": {
          "base_uri": "https://localhost:8080/",
          "height": 34
        },
        "outputId": "b6b37f25-4a55-45f9-b2af-5533357df595"
      },
      "source": [
        "#Another way to check whether that is null or not\n",
        "df.isnull().values.any()"
      ],
      "execution_count": null,
      "outputs": [
        {
          "output_type": "execute_result",
          "data": {
            "text/plain": [
              "False"
            ]
          },
          "metadata": {
            "tags": []
          },
          "execution_count": 32
        }
      ]
    },
    {
      "cell_type": "code",
      "metadata": {
        "id": "mXE2katDxdWj",
        "colab_type": "code",
        "colab": {
          "base_uri": "https://localhost:8080/",
          "height": 67
        },
        "outputId": "a843710d-cc81-427f-e7cb-fffae6bfe295"
      },
      "source": [
        "df.target.value_counts()"
      ],
      "execution_count": null,
      "outputs": [
        {
          "output_type": "execute_result",
          "data": {
            "text/plain": [
              "1    165\n",
              "0    138\n",
              "Name: target, dtype: int64"
            ]
          },
          "metadata": {
            "tags": []
          },
          "execution_count": 9
        }
      ]
    },
    {
      "cell_type": "code",
      "metadata": {
        "id": "ZY_80QLOxdVk",
        "colab_type": "code",
        "colab": {
          "base_uri": "https://localhost:8080/",
          "height": 279
        },
        "outputId": "5bab4a14-ebce-4aef-9c7e-667fd9f471a6"
      },
      "source": [
        "sns.countplot(x=\"target\", data=df, palette=\"BrBG\")\n",
        "plt.show()"
      ],
      "execution_count": null,
      "outputs": [
        {
          "output_type": "display_data",
          "data": {
            "image/png": "[encoded data removed]",
            "text/plain": [
              "<Figure size 432x288 with 1 Axes>"
            ]
          },
          "metadata": {
            "tags": [],
            "needs_background": "light"
          }
        }
      ]
    },
    {
      "cell_type": "code",
      "metadata": {
        "id": "ih2qiJr61pgA",
        "colab_type": "code",
        "colab": {
          "base_uri": "https://localhost:8080/",
          "height": 50
        },
        "outputId": "e0ff888e-8d16-43e8-c22e-485efe0fbcb1"
      },
      "source": [
        "countNoDisease = len(df[df.target == 0])\n",
        "countHaveDisease = len(df[df.target == 1])\n",
        "print(\"Percentage of Patients Haven't Heart Disease: {:.2f}%\".format((countNoDisease / (len(df.target))*100)))\n",
        "print(\"Percentage of Patients Have Heart Disease: {:.2f}%\".format((countHaveDisease / (len(df.target))*100)))"
      ],
      "execution_count": null,
      "outputs": [
        {
          "output_type": "stream",
          "text": [
            "Percentage of Patients Haven't Heart Disease: 45.54%\n",
            "Percentage of Patients Have Heart Disease: 54.46%\n"
          ],
          "name": "stdout"
        }
      ]
    },
    {
      "cell_type": "code",
      "metadata": {
        "id": "-fIdQHliANZp",
        "colab_type": "code",
        "colab": {
          "base_uri": "https://localhost:8080/",
          "height": 50
        },
        "outputId": "1de96a26-910a-46dd-fdb3-6001923179b1"
      },
      "source": [
        "countFemale = len(df[df.sex == 0])\n",
        "countMale = len(df[df.sex == 1])\n",
        "print(\"Percentage of Female Patients: {:.2f}%\".format((countFemale / (len(df.sex))*100)))\n",
        "print(\"Percentage of Male Patients: {:.2f}%\".format((countMale / (len(df.sex))*100)))"
      ],
      "execution_count": null,
      "outputs": [
        {
          "output_type": "stream",
          "text": [
            "Percentage of Female Patients: 31.68%\n",
            "Percentage of Male Patients: 68.32%\n"
          ],
          "name": "stdout"
        }
      ]
    },
    {
      "cell_type": "code",
      "metadata": {
        "id": "luTZHLQ11yRa",
        "colab_type": "code",
        "colab": {
          "base_uri": "https://localhost:8080/",
          "height": 279
        },
        "outputId": "050cffd9-2509-4f54-d0c4-ba777a5df360"
      },
      "source": [
        "sns.countplot(x='sex', data=df, palette=\"RdBu_r\")\n",
        "plt.xlabel(\"Sex (0 = female, 1= male)\")\n",
        "plt.show()"
      ],
      "execution_count": null,
      "outputs": [
        {
          "output_type": "display_data",
          "data": {
            "image/png": "[encoded data removed]",
            "text/plain": [
              "<Figure size 432x288 with 1 Axes>"
            ]
          },
          "metadata": {
            "tags": [],
            "needs_background": "light"
          }
        }
      ]
    },
    {
      "cell_type": "markdown",
      "metadata": {
        "id": "u-8_0NSS-Opn",
        "colab_type": "text"
      },
      "source": [
        "#Three-dimensional Contour Plots"
      ]
    },
    {
      "cell_type": "code",
      "metadata": {
        "id": "LWr4jNpp8Wfz",
        "colab_type": "code",
        "colab": {
          "base_uri": "https://localhost:8080/",
          "height": 248
        },
        "outputId": "8954dec1-6030-4486-d19b-9a56e2b1074c"
      },
      "source": [
        "ax = plt.axes(projection='3d')\n",
        "\n",
        "# Data for a three-dimensional line\n",
        "zline = np.linspace(0, 15, 1000)\n",
        "xline = np.sin(zline)\n",
        "yline = np.cos(zline)\n",
        "ax.plot3D(xline, yline, zline, 'Blue')\n",
        "\n",
        "# Data for three-dimensional scattered points\n",
        "zdata = 15 * np.random.random(100)\n",
        "xdata = np.sin(zdata) + 0.1 * np.random.randn(100)\n",
        "ydata = np.cos(zdata) + 0.1 * np.random.randn(100)\n",
        "ax.scatter3D(xdata, ydata, zdata, c=zdata, cmap='Greens');"
      ],
      "execution_count": null,
      "outputs": [
        {
          "output_type": "display_data",
          "data": {
            "image/png": "[encoded data removed]",
            "text/plain": [
              "<Figure size 432x288 with 1 Axes>"
            ]
          },
          "metadata": {
            "tags": [],
            "needs_background": "light"
          }
        }
      ]
    },
    {
      "cell_type": "code",
      "metadata": {
        "id": "f_Yo3FTrAWPB",
        "colab_type": "code",
        "colab": {
          "base_uri": "https://localhost:8080/",
          "height": 136
        },
        "outputId": "23d56d0b-c67f-4b78-eac4-50af0a00dce2"
      },
      "source": [
        "df.groupby('target').mean()"
      ],
      "execution_count": null,
      "outputs": [
        {
          "output_type": "execute_result",
          "data": {
            "text/html": [
              "<div>\n",
              "<style scoped>\n",
              "    .dataframe tbody tr th:only-of-type {\n",
              "        vertical-align: middle;\n",
              "    }\n",
              "\n",
              "    .dataframe tbody tr th {\n",
              "        vertical-align: top;\n",
              "    }\n",
              "\n",
              "    .dataframe thead th {\n",
              "        text-align: right;\n",
              "    }\n",
              "</style>\n",
              "<table border=\"1\" class=\"dataframe\">\n",
              "  <thead>\n",
              "    <tr style=\"text-align: right;\">\n",
              "      <th></th>\n",
              "      <th>age</th>\n",
              "      <th>sex</th>\n",
              "      <th>cp</th>\n",
              "      <th>trestbps</th>\n",
              "      <th>chol</th>\n",
              "      <th>fbs</th>\n",
              "      <th>restecg</th>\n",
              "      <th>thalach</th>\n",
              "      <th>exang</th>\n",
              "      <th>oldpeak</th>\n",
              "      <th>slope</th>\n",
              "      <th>ca</th>\n",
              "      <th>thal</th>\n",
              "    </tr>\n",
              "    <tr>\n",
              "      <th>target</th>\n",
              "      <th></th>\n",
              "      <th></th>\n",
              "      <th></th>\n",
              "      <th></th>\n",
              "      <th></th>\n",
              "      <th></th>\n",
              "      <th></th>\n",
              "      <th></th>\n",
              "      <th></th>\n",
              "      <th></th>\n",
              "      <th></th>\n",
              "      <th></th>\n",
              "      <th></th>\n",
              "    </tr>\n",
              "  </thead>\n",
              "  <tbody>\n",
              "    <tr>\n",
              "      <th>0</th>\n",
              "      <td>56.601449</td>\n",
              "      <td>0.826087</td>\n",
              "      <td>0.478261</td>\n",
              "      <td>134.398551</td>\n",
              "      <td>251.086957</td>\n",
              "      <td>0.159420</td>\n",
              "      <td>0.449275</td>\n",
              "      <td>139.101449</td>\n",
              "      <td>0.550725</td>\n",
              "      <td>1.585507</td>\n",
              "      <td>1.166667</td>\n",
              "      <td>1.166667</td>\n",
              "      <td>2.543478</td>\n",
              "    </tr>\n",
              "    <tr>\n",
              "      <th>1</th>\n",
              "      <td>52.496970</td>\n",
              "      <td>0.563636</td>\n",
              "      <td>1.375758</td>\n",
              "      <td>129.303030</td>\n",
              "      <td>242.230303</td>\n",
              "      <td>0.139394</td>\n",
              "      <td>0.593939</td>\n",
              "      <td>158.466667</td>\n",
              "      <td>0.139394</td>\n",
              "      <td>0.583030</td>\n",
              "      <td>1.593939</td>\n",
              "      <td>0.363636</td>\n",
              "      <td>2.121212</td>\n",
              "    </tr>\n",
              "  </tbody>\n",
              "</table>\n",
              "</div>"
            ],
            "text/plain": [
              "              age       sex        cp  ...     slope        ca      thal\n",
              "target                                 ...                              \n",
              "0       56.601449  0.826087  0.478261  ...  1.166667  1.166667  2.543478\n",
              "1       52.496970  0.563636  1.375758  ...  1.593939  0.363636  2.121212\n",
              "\n",
              "[2 rows x 13 columns]"
            ]
          },
          "metadata": {
            "tags": []
          },
          "execution_count": 54
        }
      ]
    },
    {
      "cell_type": "code",
      "metadata": {
        "id": "1gByfq_9AjIX",
        "colab_type": "code",
        "colab": {
          "base_uri": "https://localhost:8080/",
          "height": 136
        },
        "outputId": "85b14930-beb8-4988-c092-eeca762f7aba"
      },
      "source": [
        "df.groupby('target').median()"
      ],
      "execution_count": null,
      "outputs": [
        {
          "output_type": "execute_result",
          "data": {
            "text/html": [
              "<div>\n",
              "<style scoped>\n",
              "    .dataframe tbody tr th:only-of-type {\n",
              "        vertical-align: middle;\n",
              "    }\n",
              "\n",
              "    .dataframe tbody tr th {\n",
              "        vertical-align: top;\n",
              "    }\n",
              "\n",
              "    .dataframe thead th {\n",
              "        text-align: right;\n",
              "    }\n",
              "</style>\n",
              "<table border=\"1\" class=\"dataframe\">\n",
              "  <thead>\n",
              "    <tr style=\"text-align: right;\">\n",
              "      <th></th>\n",
              "      <th>age</th>\n",
              "      <th>sex</th>\n",
              "      <th>cp</th>\n",
              "      <th>trestbps</th>\n",
              "      <th>chol</th>\n",
              "      <th>fbs</th>\n",
              "      <th>restecg</th>\n",
              "      <th>thalach</th>\n",
              "      <th>exang</th>\n",
              "      <th>oldpeak</th>\n",
              "      <th>slope</th>\n",
              "      <th>ca</th>\n",
              "      <th>thal</th>\n",
              "    </tr>\n",
              "    <tr>\n",
              "      <th>target</th>\n",
              "      <th></th>\n",
              "      <th></th>\n",
              "      <th></th>\n",
              "      <th></th>\n",
              "      <th></th>\n",
              "      <th></th>\n",
              "      <th></th>\n",
              "      <th></th>\n",
              "      <th></th>\n",
              "      <th></th>\n",
              "      <th></th>\n",
              "      <th></th>\n",
              "      <th></th>\n",
              "    </tr>\n",
              "  </thead>\n",
              "  <tbody>\n",
              "    <tr>\n",
              "      <th>0</th>\n",
              "      <td>58</td>\n",
              "      <td>1</td>\n",
              "      <td>0</td>\n",
              "      <td>130</td>\n",
              "      <td>249</td>\n",
              "      <td>0</td>\n",
              "      <td>0</td>\n",
              "      <td>142</td>\n",
              "      <td>1</td>\n",
              "      <td>1.4</td>\n",
              "      <td>1</td>\n",
              "      <td>1</td>\n",
              "      <td>3</td>\n",
              "    </tr>\n",
              "    <tr>\n",
              "      <th>1</th>\n",
              "      <td>52</td>\n",
              "      <td>1</td>\n",
              "      <td>2</td>\n",
              "      <td>130</td>\n",
              "      <td>234</td>\n",
              "      <td>0</td>\n",
              "      <td>1</td>\n",
              "      <td>161</td>\n",
              "      <td>0</td>\n",
              "      <td>0.2</td>\n",
              "      <td>2</td>\n",
              "      <td>0</td>\n",
              "      <td>2</td>\n",
              "    </tr>\n",
              "  </tbody>\n",
              "</table>\n",
              "</div>"
            ],
            "text/plain": [
              "        age  sex  cp  trestbps  chol  ...  exang  oldpeak  slope  ca  thal\n",
              "target                                ...                                 \n",
              "0        58    1   0       130   249  ...      1      1.4      1   1     3\n",
              "1        52    1   2       130   234  ...      0      0.2      2   0     2\n",
              "\n",
              "[2 rows x 13 columns]"
            ]
          },
          "metadata": {
            "tags": []
          },
          "execution_count": 56
        }
      ]
    },
    {
      "cell_type": "code",
      "metadata": {
        "id": "ZFtNftfFAwNU",
        "colab_type": "code",
        "colab": {
          "base_uri": "https://localhost:8080/",
          "height": 390
        },
        "outputId": "7da98842-20c0-4491-9fbc-0c6f84671f37"
      },
      "source": [
        "pd.crosstab(df.age,df.target).plot(kind=\"bar\",figsize=(20,6))\n",
        "plt.title('Heart Disease Frequency for Ages')\n",
        "plt.xlabel('Age')\n",
        "plt.ylabel('Frequency')\n",
        "plt.savefig('heartDiseaseAndAges.jpeg')\n",
        "plt.show()"
      ],
      "execution_count": null,
      "outputs": [
        {
          "output_type": "display_data",
          "data": {
            "image/png": "[encoded data removed]",
            "text/plain": [
              "<Figure size 1440x432 with 1 Axes>"
            ]
          },
          "metadata": {
            "tags": [],
            "needs_background": "light"
          }
        }
      ]
    },
    {
      "cell_type": "code",
      "metadata": {
        "id": "yhE7OsmIBXxw",
        "colab_type": "code",
        "colab": {
          "base_uri": "https://localhost:8080/",
          "height": 482
        },
        "outputId": "e3c2d5e3-635e-47de-8c49-360c53e0cbd5"
      },
      "source": [
        "#Get the correlation\n",
        "df.corr()"
      ],
      "execution_count": null,
      "outputs": [
        {
          "output_type": "execute_result",
          "data": {
            "text/html": [
              "<div>\n",
              "<style scoped>\n",
              "    .dataframe tbody tr th:only-of-type {\n",
              "        vertical-align: middle;\n",
              "    }\n",
              "\n",
              "    .dataframe tbody tr th {\n",
              "        vertical-align: top;\n",
              "    }\n",
              "\n",
              "    .dataframe thead th {\n",
              "        text-align: right;\n",
              "    }\n",
              "</style>\n",
              "<table border=\"1\" class=\"dataframe\">\n",
              "  <thead>\n",
              "    <tr style=\"text-align: right;\">\n",
              "      <th></th>\n",
              "      <th>age</th>\n",
              "      <th>sex</th>\n",
              "      <th>cp</th>\n",
              "      <th>trestbps</th>\n",
              "      <th>chol</th>\n",
              "      <th>fbs</th>\n",
              "      <th>restecg</th>\n",
              "      <th>thalach</th>\n",
              "      <th>exang</th>\n",
              "      <th>oldpeak</th>\n",
              "      <th>slope</th>\n",
              "      <th>ca</th>\n",
              "      <th>thal</th>\n",
              "      <th>target</th>\n",
              "    </tr>\n",
              "  </thead>\n",
              "  <tbody>\n",
              "    <tr>\n",
              "      <th>age</th>\n",
              "      <td>1.000000</td>\n",
              "      <td>-0.098447</td>\n",
              "      <td>-0.068653</td>\n",
              "      <td>0.279351</td>\n",
              "      <td>0.213678</td>\n",
              "      <td>0.121308</td>\n",
              "      <td>-0.116211</td>\n",
              "      <td>-0.398522</td>\n",
              "      <td>0.096801</td>\n",
              "      <td>0.210013</td>\n",
              "      <td>-0.168814</td>\n",
              "      <td>0.276326</td>\n",
              "      <td>0.068001</td>\n",
              "      <td>-0.225439</td>\n",
              "    </tr>\n",
              "    <tr>\n",
              "      <th>sex</th>\n",
              "      <td>-0.098447</td>\n",
              "      <td>1.000000</td>\n",
              "      <td>-0.049353</td>\n",
              "      <td>-0.056769</td>\n",
              "      <td>-0.197912</td>\n",
              "      <td>0.045032</td>\n",
              "      <td>-0.058196</td>\n",
              "      <td>-0.044020</td>\n",
              "      <td>0.141664</td>\n",
              "      <td>0.096093</td>\n",
              "      <td>-0.030711</td>\n",
              "      <td>0.118261</td>\n",
              "      <td>0.210041</td>\n",
              "      <td>-0.280937</td>\n",
              "    </tr>\n",
              "    <tr>\n",
              "      <th>cp</th>\n",
              "      <td>-0.068653</td>\n",
              "      <td>-0.049353</td>\n",
              "      <td>1.000000</td>\n",
              "      <td>0.047608</td>\n",
              "      <td>-0.076904</td>\n",
              "      <td>0.094444</td>\n",
              "      <td>0.044421</td>\n",
              "      <td>0.295762</td>\n",
              "      <td>-0.394280</td>\n",
              "      <td>-0.149230</td>\n",
              "      <td>0.119717</td>\n",
              "      <td>-0.181053</td>\n",
              "      <td>-0.161736</td>\n",
              "      <td>0.433798</td>\n",
              "    </tr>\n",
              "    <tr>\n",
              "      <th>trestbps</th>\n",
              "      <td>0.279351</td>\n",
              "      <td>-0.056769</td>\n",
              "      <td>0.047608</td>\n",
              "      <td>1.000000</td>\n",
              "      <td>0.123174</td>\n",
              "      <td>0.177531</td>\n",
              "      <td>-0.114103</td>\n",
              "      <td>-0.046698</td>\n",
              "      <td>0.067616</td>\n",
              "      <td>0.193216</td>\n",
              "      <td>-0.121475</td>\n",
              "      <td>0.101389</td>\n",
              "      <td>0.062210</td>\n",
              "      <td>-0.144931</td>\n",
              "    </tr>\n",
              "    <tr>\n",
              "      <th>chol</th>\n",
              "      <td>0.213678</td>\n",
              "      <td>-0.197912</td>\n",
              "      <td>-0.076904</td>\n",
              "      <td>0.123174</td>\n",
              "      <td>1.000000</td>\n",
              "      <td>0.013294</td>\n",
              "      <td>-0.151040</td>\n",
              "      <td>-0.009940</td>\n",
              "      <td>0.067023</td>\n",
              "      <td>0.053952</td>\n",
              "      <td>-0.004038</td>\n",
              "      <td>0.070511</td>\n",
              "      <td>0.098803</td>\n",
              "      <td>-0.085239</td>\n",
              "    </tr>\n",
              "    <tr>\n",
              "      <th>fbs</th>\n",
              "      <td>0.121308</td>\n",
              "      <td>0.045032</td>\n",
              "      <td>0.094444</td>\n",
              "      <td>0.177531</td>\n",
              "      <td>0.013294</td>\n",
              "      <td>1.000000</td>\n",
              "      <td>-0.084189</td>\n",
              "      <td>-0.008567</td>\n",
              "      <td>0.025665</td>\n",
              "      <td>0.005747</td>\n",
              "      <td>-0.059894</td>\n",
              "      <td>0.137979</td>\n",
              "      <td>-0.032019</td>\n",
              "      <td>-0.028046</td>\n",
              "    </tr>\n",
              "    <tr>\n",
              "      <th>restecg</th>\n",
              "      <td>-0.116211</td>\n",
              "      <td>-0.058196</td>\n",
              "      <td>0.044421</td>\n",
              "      <td>-0.114103</td>\n",
              "      <td>-0.151040</td>\n",
              "      <td>-0.084189</td>\n",
              "      <td>1.000000</td>\n",
              "      <td>0.044123</td>\n",
              "      <td>-0.070733</td>\n",
              "      <td>-0.058770</td>\n",
              "      <td>0.093045</td>\n",
              "      <td>-0.072042</td>\n",
              "      <td>-0.011981</td>\n",
              "      <td>0.137230</td>\n",
              "    </tr>\n",
              "    <tr>\n",
              "      <th>thalach</th>\n",
              "      <td>-0.398522</td>\n",
              "      <td>-0.044020</td>\n",
              "      <td>0.295762</td>\n",
              "      <td>-0.046698</td>\n",
              "      <td>-0.009940</td>\n",
              "      <td>-0.008567</td>\n",
              "      <td>0.044123</td>\n",
              "      <td>1.000000</td>\n",
              "      <td>-0.378812</td>\n",
              "      <td>-0.344187</td>\n",
              "      <td>0.386784</td>\n",
              "      <td>-0.213177</td>\n",
              "      <td>-0.096439</td>\n",
              "      <td>0.421741</td>\n",
              "    </tr>\n",
              "    <tr>\n",
              "      <th>exang</th>\n",
              "      <td>0.096801</td>\n",
              "      <td>0.141664</td>\n",
              "      <td>-0.394280</td>\n",
              "      <td>0.067616</td>\n",
              "      <td>0.067023</td>\n",
              "      <td>0.025665</td>\n",
              "      <td>-0.070733</td>\n",
              "      <td>-0.378812</td>\n",
              "      <td>1.000000</td>\n",
              "      <td>0.288223</td>\n",
              "      <td>-0.257748</td>\n",
              "      <td>0.115739</td>\n",
              "      <td>0.206754</td>\n",
              "      <td>-0.436757</td>\n",
              "    </tr>\n",
              "    <tr>\n",
              "      <th>oldpeak</th>\n",
              "      <td>0.210013</td>\n",
              "      <td>0.096093</td>\n",
              "      <td>-0.149230</td>\n",
              "      <td>0.193216</td>\n",
              "      <td>0.053952</td>\n",
              "      <td>0.005747</td>\n",
              "      <td>-0.058770</td>\n",
              "      <td>-0.344187</td>\n",
              "      <td>0.288223</td>\n",
              "      <td>1.000000</td>\n",
              "      <td>-0.577537</td>\n",
              "      <td>0.222682</td>\n",
              "      <td>0.210244</td>\n",
              "      <td>-0.430696</td>\n",
              "    </tr>\n",
              "    <tr>\n",
              "      <th>slope</th>\n",
              "      <td>-0.168814</td>\n",
              "      <td>-0.030711</td>\n",
              "      <td>0.119717</td>\n",
              "      <td>-0.121475</td>\n",
              "      <td>-0.004038</td>\n",
              "      <td>-0.059894</td>\n",
              "      <td>0.093045</td>\n",
              "      <td>0.386784</td>\n",
              "      <td>-0.257748</td>\n",
              "      <td>-0.577537</td>\n",
              "      <td>1.000000</td>\n",
              "      <td>-0.080155</td>\n",
              "      <td>-0.104764</td>\n",
              "      <td>0.345877</td>\n",
              "    </tr>\n",
              "    <tr>\n",
              "      <th>ca</th>\n",
              "      <td>0.276326</td>\n",
              "      <td>0.118261</td>\n",
              "      <td>-0.181053</td>\n",
              "      <td>0.101389</td>\n",
              "      <td>0.070511</td>\n",
              "      <td>0.137979</td>\n",
              "      <td>-0.072042</td>\n",
              "      <td>-0.213177</td>\n",
              "      <td>0.115739</td>\n",
              "      <td>0.222682</td>\n",
              "      <td>-0.080155</td>\n",
              "      <td>1.000000</td>\n",
              "      <td>0.151832</td>\n",
              "      <td>-0.391724</td>\n",
              "    </tr>\n",
              "    <tr>\n",
              "      <th>thal</th>\n",
              "      <td>0.068001</td>\n",
              "      <td>0.210041</td>\n",
              "      <td>-0.161736</td>\n",
              "      <td>0.062210</td>\n",
              "      <td>0.098803</td>\n",
              "      <td>-0.032019</td>\n",
              "      <td>-0.011981</td>\n",
              "      <td>-0.096439</td>\n",
              "      <td>0.206754</td>\n",
              "      <td>0.210244</td>\n",
              "      <td>-0.104764</td>\n",
              "      <td>0.151832</td>\n",
              "      <td>1.000000</td>\n",
              "      <td>-0.344029</td>\n",
              "    </tr>\n",
              "    <tr>\n",
              "      <th>target</th>\n",
              "      <td>-0.225439</td>\n",
              "      <td>-0.280937</td>\n",
              "      <td>0.433798</td>\n",
              "      <td>-0.144931</td>\n",
              "      <td>-0.085239</td>\n",
              "      <td>-0.028046</td>\n",
              "      <td>0.137230</td>\n",
              "      <td>0.421741</td>\n",
              "      <td>-0.436757</td>\n",
              "      <td>-0.430696</td>\n",
              "      <td>0.345877</td>\n",
              "      <td>-0.391724</td>\n",
              "      <td>-0.344029</td>\n",
              "      <td>1.000000</td>\n",
              "    </tr>\n",
              "  </tbody>\n",
              "</table>\n",
              "</div>"
            ],
            "text/plain": [
              "               age       sex        cp  ...        ca      thal    target\n",
              "age       1.000000 -0.098447 -0.068653  ...  0.276326  0.068001 -0.225439\n",
              "sex      -0.098447  1.000000 -0.049353  ...  0.118261  0.210041 -0.280937\n",
              "cp       -0.068653 -0.049353  1.000000  ... -0.181053 -0.161736  0.433798\n",
              "trestbps  0.279351 -0.056769  0.047608  ...  0.101389  0.062210 -0.144931\n",
              "chol      0.213678 -0.197912 -0.076904  ...  0.070511  0.098803 -0.085239\n",
              "fbs       0.121308  0.045032  0.094444  ...  0.137979 -0.032019 -0.028046\n",
              "restecg  -0.116211 -0.058196  0.044421  ... -0.072042 -0.011981  0.137230\n",
              "thalach  -0.398522 -0.044020  0.295762  ... -0.213177 -0.096439  0.421741\n",
              "exang     0.096801  0.141664 -0.394280  ...  0.115739  0.206754 -0.436757\n",
              "oldpeak   0.210013  0.096093 -0.149230  ...  0.222682  0.210244 -0.430696\n",
              "slope    -0.168814 -0.030711  0.119717  ... -0.080155 -0.104764  0.345877\n",
              "ca        0.276326  0.118261 -0.181053  ...  1.000000  0.151832 -0.391724\n",
              "thal      0.068001  0.210041 -0.161736  ...  0.151832  1.000000 -0.344029\n",
              "target   -0.225439 -0.280937  0.433798  ... -0.391724 -0.344029  1.000000\n",
              "\n",
              "[14 rows x 14 columns]"
            ]
          },
          "metadata": {
            "tags": []
          },
          "execution_count": 60
        }
      ]
    },
    {
      "cell_type": "code",
      "metadata": {
        "id": "ysqNHylFCo5b",
        "colab_type": "code",
        "colab": {
          "base_uri": "https://localhost:8080/",
          "height": 480
        },
        "outputId": "19556bee-9fdb-4527-b50f-7bd0d012fcf2"
      },
      "source": [
        "#Visualize the Data\n",
        "plt.figure(figsize = (7,7))\n",
        "sns.heatmap(df.corr(),annot = True ,fmt = '.0%')"
      ],
      "execution_count": null,
      "outputs": [
        {
          "output_type": "execute_result",
          "data": {
            "text/plain": [
              "<matplotlib.axes._subplots.AxesSubplot at 0x7facf0c22f60>"
            ]
          },
          "metadata": {
            "tags": []
          },
          "execution_count": 68
        },
        {
          "output_type": "display_data",
          "data": {
            "image/png": "[encoded data removed]",
            "text/plain": [
              "<Figure size 504x504 with 2 Axes>"
            ]
          },
          "metadata": {
            "tags": [],
            "needs_background": "light"
          }
        }
      ]
    },
    {
      "cell_type": "code",
      "metadata": {
        "id": "onCcTY15BCEi",
        "colab_type": "code",
        "colab": {
          "base_uri": "https://localhost:8080/",
          "height": 404
        },
        "outputId": "434f339e-5ecc-4890-b050-fa03e743b2bf"
      },
      "source": [
        "pd.crosstab(df.sex,df.target).plot(kind=\"bar\",figsize=(15,6),color=['#2763a8','#d1cd5e' ])\n",
        "plt.title('Heart Disease Frequency for Sex')\n",
        "plt.xlabel('Sex (0 = Female, 1 = Male)')\n",
        "plt.xticks(rotation=0)\n",
        "plt.legend([\"Haven't Disease\", \"Have Disease\"])\n",
        "plt.ylabel('Frequency')\n",
        "plt.show()"
      ],
      "execution_count": 8,
      "outputs": [
        {
          "output_type": "display_data",
          "data": {
            "image/png": "[encoded data removed]",
            "text/plain": [
              "<Figure size 1080x432 with 1 Axes>"
            ]
          },
          "metadata": {
            "tags": [],
            "needs_background": "light"
          }
        }
      ]
    },
    {
      "cell_type": "code",
      "metadata": {
        "id": "-4Uk8aswB0Tm",
        "colab_type": "code",
        "colab": {
          "base_uri": "https://localhost:8080/",
          "height": 279
        },
        "outputId": "b1598198-941f-414e-c604-266104371f7d"
      },
      "source": [
        "plt.scatter(x=df.age[df.target==1], y=df.thalach[(df.target==1)],color=\"blue\")\n",
        "plt.scatter(x=df.age[df.target==0], y=df.thalach[(df.target==0)])\n",
        "plt.legend([\"Disease\", \"Not Disease\"])\n",
        "plt.xlabel(\"Age\")\n",
        "plt.ylabel(\"Maximum Heart Rate\")\n",
        "plt.show()"
      ],
      "execution_count": null,
      "outputs": [
        {
          "output_type": "display_data",
          "data": {
            "image/png": "[encoded data removed]",
            "text/plain": [
              "<Figure size 432x288 with 1 Axes>"
            ]
          },
          "metadata": {
            "tags": [],
            "needs_background": "light"
          }
        }
      ]
    },
    {
      "cell_type": "code",
      "metadata": {
        "id": "pJCFg_DIfMtR",
        "colab_type": "code",
        "colab": {
          "base_uri": "https://localhost:8080/",
          "height": 404
        },
        "outputId": "6e2c2d49-58bf-4301-ca33-bf1c8ebfdb30"
      },
      "source": [
        "#Visualising the data for the Heart disease Frequency\n",
        "pd.crosstab(df.slope,df.target).plot(kind=\"bar\",figsize=(15,6),color=['#9c2cb8','#c4761d'])\n",
        "plt.title('Heart Disease Frequency')\n",
        "plt.xlabel('Slope of The Peak Exercise ST Segment')\n",
        "plt.xticks(rotation = 0)\n",
        "plt.ylabel('Frequency')\n",
        "plt.show()"
      ],
      "execution_count": 9,
      "outputs": [
        {
          "output_type": "display_data",
          "data": {
            "image/png": "[encoded data removed]",
            "text/plain": [
              "<Figure size 1080x432 with 1 Axes>"
            ]
          },
          "metadata": {
            "tags": [],
            "needs_background": "light"
          }
        }
      ]
    },
    {
      "cell_type": "code",
      "metadata": {
        "id": "9L77DNWAhD5v",
        "colab_type": "code",
        "colab": {
          "base_uri": "https://localhost:8080/",
          "height": 404
        },
        "outputId": "9f5b3875-95d3-4805-cb50-754d297f9554"
      },
      "source": [
        "pd.crosstab(df.fbs,df.target).plot(kind=\"bar\",figsize=(15,6),color=['#FFC300','#581845' ])\n",
        "plt.title('Heart Disease Frequency According To FBS')\n",
        "plt.xlabel('FBS - (Fasting Blood Sugar > 120 mg/dl) (1 = true; 0 = false)')\n",
        "plt.xticks(rotation = 0)\n",
        "plt.legend([\"Haven't Disease\", \"Have Disease\"])\n",
        "plt.ylabel('Frequency of Disease or Not')\n",
        "plt.show()"
      ],
      "execution_count": 10,
      "outputs": [
        {
          "output_type": "display_data",
          "data": {
            "image/png": "[encoded data removed]",
            "text/plain": [
              "<Figure size 1080x432 with 1 Axes>"
            ]
          },
          "metadata": {
            "tags": [],
            "needs_background": "light"
          }
        }
      ]
    },
    {
      "cell_type": "code",
      "metadata": {
        "id": "mCk1qcmzhLUT",
        "colab_type": "code",
        "colab": {
          "base_uri": "https://localhost:8080/",
          "height": 404
        },
        "outputId": "47318f64-9952-45c7-85d4-fc45f60b6947"
      },
      "source": [
        "pd.crosstab(df.cp,df.target).plot(kind=\"bar\",figsize=(15,6),color=['#c41d55','#d4c931' ])\n",
        "plt.title('Frequency According To Chest Pain Type')\n",
        "plt.xlabel('Chest Pain Type')\n",
        "plt.xticks(rotation = 0)\n",
        "plt.ylabel('Frequency of Disease or Not')\n",
        "plt.show()"
      ],
      "execution_count": 12,
      "outputs": [
        {
          "output_type": "display_data",
          "data": {
            "image/png": "[encoded data removed]",
            "text/plain": [
              "<Figure size 1080x432 with 1 Axes>"
            ]
          },
          "metadata": {
            "tags": [],
            "needs_background": "light"
          }
        }
      ]
    },
    {
      "cell_type": "markdown",
      "metadata": {
        "id": "XDHuvfwDiThh",
        "colab_type": "text"
      },
      "source": [
        "# *Data Preprocessing*\n",
        "To work with categorical variables, we should break each categorical column into dummy columns with 1s and 0s.\n",
        "\n",
        "Let’s say we have a column Gender, with values 1 for Male and 0 for Female. It needs to be converted into two columns with the value 1 where the column would be true and 0 where it will be false."
      ]
    },
    {
      "cell_type": "code",
      "metadata": {
        "id": "i8L6KGqZirmR",
        "colab_type": "code",
        "colab": {}
      },
      "source": [
        "# Original Columm\n",
        "# |  Gender  |\n",
        "# |     1    |\n",
        "# |     1    |\n",
        "# |     0    |\n",
        "\n",
        "# Dummy Columns\n",
        "# |  Gender_0  ||  Gender_1  |\n",
        "# |      0     ||      1     |\n",
        "# |      0     ||      1     |\n",
        "# |      1     ||      0     |"
      ],
      "execution_count": null,
      "outputs": []
    },
    {
      "cell_type": "markdown",
      "metadata": {
        "id": "CChg24D_i3BD",
        "colab_type": "text"
      },
      "source": [
        "To get this done, we use the get_dummies() method from pandas. Next, we need to scale the dataset for which we will use the StandardScaler. The fit_transform() method of the scaler scales the data and we update the columns"
      ]
    },
    {
      "cell_type": "code",
      "metadata": {
        "id": "nuG1Ekxslc8G",
        "colab_type": "code",
        "colab": {}
      },
      "source": [
        "df = pd.get_dummies(df, columns = ['sex', 'cp', 'fbs', 'restecg', 'exang', 'slope', 'ca', 'thal'])\n",
        "standardScaler = StandardScaler()\n",
        "columns_to_scale = ['age', 'trestbps', 'chol', 'thalach', 'oldpeak']\n",
        "df[columns_to_scale] = standardScaler.fit_transform(df[columns_to_scale])"
      ],
      "execution_count": null,
      "outputs": []
    },
    {
      "cell_type": "markdown",
      "metadata": {
        "id": "FYI499ExkDlH",
        "colab_type": "text"
      },
      "source": [
        "Creating Dummy Variables\n",
        "\n",
        "Since 'cp', 'thal' and 'slope' are categorical variables we'll turn them into dummy variables."
      ]
    },
    {
      "cell_type": "code",
      "metadata": {
        "id": "yrRuUJugkRFO",
        "colab_type": "code",
        "colab": {}
      },
      "source": [
        "a = pd.get_dummies(df['cp'], prefix = \"cp\")\n",
        "b = pd.get_dummies(df['thal'], prefix = \"thal\")\n",
        "c = pd.get_dummies(df['slope'], prefix = \"slope\")"
      ],
      "execution_count": 23,
      "outputs": []
    },
    {
      "cell_type": "code",
      "metadata": {
        "id": "hwAE7bx1kaiq",
        "colab_type": "code",
        "colab": {
          "base_uri": "https://localhost:8080/",
          "height": 195
        },
        "outputId": "bd8b40b2-8c13-48c8-bbe8-c9e964826b5e"
      },
      "source": [
        "frames = [df, a, b, c]\n",
        "df = pd.concat(frames, axis = 1)\n",
        "df.head()"
      ],
      "execution_count": 24,
      "outputs": [
        {
          "output_type": "execute_result",
          "data": {
            "text/html": [
              "<div>\n",
              "<style scoped>\n",
              "    .dataframe tbody tr th:only-of-type {\n",
              "        vertical-align: middle;\n",
              "    }\n",
              "\n",
              "    .dataframe tbody tr th {\n",
              "        vertical-align: top;\n",
              "    }\n",
              "\n",
              "    .dataframe thead th {\n",
              "        text-align: right;\n",
              "    }\n",
              "</style>\n",
              "<table border=\"1\" class=\"dataframe\">\n",
              "  <thead>\n",
              "    <tr style=\"text-align: right;\">\n",
              "      <th></th>\n",
              "      <th>age</th>\n",
              "      <th>sex</th>\n",
              "      <th>cp</th>\n",
              "      <th>trestbps</th>\n",
              "      <th>chol</th>\n",
              "      <th>fbs</th>\n",
              "      <th>restecg</th>\n",
              "      <th>thalach</th>\n",
              "      <th>exang</th>\n",
              "      <th>oldpeak</th>\n",
              "      <th>slope</th>\n",
              "      <th>ca</th>\n",
              "      <th>thal</th>\n",
              "      <th>target</th>\n",
              "      <th>cp_0</th>\n",
              "      <th>cp_1</th>\n",
              "      <th>cp_2</th>\n",
              "      <th>cp_3</th>\n",
              "      <th>thal_0</th>\n",
              "      <th>thal_1</th>\n",
              "      <th>thal_2</th>\n",
              "      <th>thal_3</th>\n",
              "      <th>slope_0</th>\n",
              "      <th>slope_1</th>\n",
              "      <th>slope_2</th>\n",
              "    </tr>\n",
              "  </thead>\n",
              "  <tbody>\n",
              "    <tr>\n",
              "      <th>0</th>\n",
              "      <td>63</td>\n",
              "      <td>1</td>\n",
              "      <td>3</td>\n",
              "      <td>145</td>\n",
              "      <td>233</td>\n",
              "      <td>1</td>\n",
              "      <td>0</td>\n",
              "      <td>150</td>\n",
              "      <td>0</td>\n",
              "      <td>2.3</td>\n",
              "      <td>0</td>\n",
              "      <td>0</td>\n",
              "      <td>1</td>\n",
              "      <td>1</td>\n",
              "      <td>0</td>\n",
              "      <td>0</td>\n",
              "      <td>0</td>\n",
              "      <td>1</td>\n",
              "      <td>0</td>\n",
              "      <td>1</td>\n",
              "      <td>0</td>\n",
              "      <td>0</td>\n",
              "      <td>1</td>\n",
              "      <td>0</td>\n",
              "      <td>0</td>\n",
              "    </tr>\n",
              "    <tr>\n",
              "      <th>1</th>\n",
              "      <td>37</td>\n",
              "      <td>1</td>\n",
              "      <td>2</td>\n",
              "      <td>130</td>\n",
              "      <td>250</td>\n",
              "      <td>0</td>\n",
              "      <td>1</td>\n",
              "      <td>187</td>\n",
              "      <td>0</td>\n",
              "      <td>3.5</td>\n",
              "      <td>0</td>\n",
              "      <td>0</td>\n",
              "      <td>2</td>\n",
              "      <td>1</td>\n",
              "      <td>0</td>\n",
              "      <td>0</td>\n",
              "      <td>1</td>\n",
              "      <td>0</td>\n",
              "      <td>0</td>\n",
              "      <td>0</td>\n",
              "      <td>1</td>\n",
              "      <td>0</td>\n",
              "      <td>1</td>\n",
              "      <td>0</td>\n",
              "      <td>0</td>\n",
              "    </tr>\n",
              "    <tr>\n",
              "      <th>2</th>\n",
              "      <td>41</td>\n",
              "      <td>0</td>\n",
              "      <td>1</td>\n",
              "      <td>130</td>\n",
              "      <td>204</td>\n",
              "      <td>0</td>\n",
              "      <td>0</td>\n",
              "      <td>172</td>\n",
              "      <td>0</td>\n",
              "      <td>1.4</td>\n",
              "      <td>2</td>\n",
              "      <td>0</td>\n",
              "      <td>2</td>\n",
              "      <td>1</td>\n",
              "      <td>0</td>\n",
              "      <td>1</td>\n",
              "      <td>0</td>\n",
              "      <td>0</td>\n",
              "      <td>0</td>\n",
              "      <td>0</td>\n",
              "      <td>1</td>\n",
              "      <td>0</td>\n",
              "      <td>0</td>\n",
              "      <td>0</td>\n",
              "      <td>1</td>\n",
              "    </tr>\n",
              "    <tr>\n",
              "      <th>3</th>\n",
              "      <td>56</td>\n",
              "      <td>1</td>\n",
              "      <td>1</td>\n",
              "      <td>120</td>\n",
              "      <td>236</td>\n",
              "      <td>0</td>\n",
              "      <td>1</td>\n",
              "      <td>178</td>\n",
              "      <td>0</td>\n",
              "      <td>0.8</td>\n",
              "      <td>2</td>\n",
              "      <td>0</td>\n",
              "      <td>2</td>\n",
              "      <td>1</td>\n",
              "      <td>0</td>\n",
              "      <td>1</td>\n",
              "      <td>0</td>\n",
              "      <td>0</td>\n",
              "      <td>0</td>\n",
              "      <td>0</td>\n",
              "      <td>1</td>\n",
              "      <td>0</td>\n",
              "      <td>0</td>\n",
              "      <td>0</td>\n",
              "      <td>1</td>\n",
              "    </tr>\n",
              "    <tr>\n",
              "      <th>4</th>\n",
              "      <td>57</td>\n",
              "      <td>0</td>\n",
              "      <td>0</td>\n",
              "      <td>120</td>\n",
              "      <td>354</td>\n",
              "      <td>0</td>\n",
              "      <td>1</td>\n",
              "      <td>163</td>\n",
              "      <td>1</td>\n",
              "      <td>0.6</td>\n",
              "      <td>2</td>\n",
              "      <td>0</td>\n",
              "      <td>2</td>\n",
              "      <td>1</td>\n",
              "      <td>1</td>\n",
              "      <td>0</td>\n",
              "      <td>0</td>\n",
              "      <td>0</td>\n",
              "      <td>0</td>\n",
              "      <td>0</td>\n",
              "      <td>1</td>\n",
              "      <td>0</td>\n",
              "      <td>0</td>\n",
              "      <td>0</td>\n",
              "      <td>1</td>\n",
              "    </tr>\n",
              "  </tbody>\n",
              "</table>\n",
              "</div>"
            ],
            "text/plain": [
              "   age  sex  cp  trestbps  chol  ...  thal_2  thal_3  slope_0  slope_1  slope_2\n",
              "0   63    1   3       145   233  ...       0       0        1        0        0\n",
              "1   37    1   2       130   250  ...       1       0        1        0        0\n",
              "2   41    0   1       130   204  ...       1       0        0        0        1\n",
              "3   56    1   1       120   236  ...       1       0        0        0        1\n",
              "4   57    0   0       120   354  ...       1       0        0        0        1\n",
              "\n",
              "[5 rows x 25 columns]"
            ]
          },
          "metadata": {
            "tags": []
          },
          "execution_count": 24
        }
      ]
    },
    {
      "cell_type": "code",
      "metadata": {
        "id": "HyYfh_O6k29q",
        "colab_type": "code",
        "colab": {
          "base_uri": "https://localhost:8080/",
          "height": 195
        },
        "outputId": "3878d9f4-e75f-421e-8e71-c0e1afe9dd5f"
      },
      "source": [
        "df = df.drop(columns = ['cp', 'thal', 'slope'])\n",
        "df.head()"
      ],
      "execution_count": 25,
      "outputs": [
        {
          "output_type": "execute_result",
          "data": {
            "text/html": [
              "<div>\n",
              "<style scoped>\n",
              "    .dataframe tbody tr th:only-of-type {\n",
              "        vertical-align: middle;\n",
              "    }\n",
              "\n",
              "    .dataframe tbody tr th {\n",
              "        vertical-align: top;\n",
              "    }\n",
              "\n",
              "    .dataframe thead th {\n",
              "        text-align: right;\n",
              "    }\n",
              "</style>\n",
              "<table border=\"1\" class=\"dataframe\">\n",
              "  <thead>\n",
              "    <tr style=\"text-align: right;\">\n",
              "      <th></th>\n",
              "      <th>age</th>\n",
              "      <th>sex</th>\n",
              "      <th>trestbps</th>\n",
              "      <th>chol</th>\n",
              "      <th>fbs</th>\n",
              "      <th>restecg</th>\n",
              "      <th>thalach</th>\n",
              "      <th>exang</th>\n",
              "      <th>oldpeak</th>\n",
              "      <th>ca</th>\n",
              "      <th>target</th>\n",
              "      <th>cp_0</th>\n",
              "      <th>cp_1</th>\n",
              "      <th>cp_2</th>\n",
              "      <th>cp_3</th>\n",
              "      <th>thal_0</th>\n",
              "      <th>thal_1</th>\n",
              "      <th>thal_2</th>\n",
              "      <th>thal_3</th>\n",
              "      <th>slope_0</th>\n",
              "      <th>slope_1</th>\n",
              "      <th>slope_2</th>\n",
              "    </tr>\n",
              "  </thead>\n",
              "  <tbody>\n",
              "    <tr>\n",
              "      <th>0</th>\n",
              "      <td>63</td>\n",
              "      <td>1</td>\n",
              "      <td>145</td>\n",
              "      <td>233</td>\n",
              "      <td>1</td>\n",
              "      <td>0</td>\n",
              "      <td>150</td>\n",
              "      <td>0</td>\n",
              "      <td>2.3</td>\n",
              "      <td>0</td>\n",
              "      <td>1</td>\n",
              "      <td>0</td>\n",
              "      <td>0</td>\n",
              "      <td>0</td>\n",
              "      <td>1</td>\n",
              "      <td>0</td>\n",
              "      <td>1</td>\n",
              "      <td>0</td>\n",
              "      <td>0</td>\n",
              "      <td>1</td>\n",
              "      <td>0</td>\n",
              "      <td>0</td>\n",
              "    </tr>\n",
              "    <tr>\n",
              "      <th>1</th>\n",
              "      <td>37</td>\n",
              "      <td>1</td>\n",
              "      <td>130</td>\n",
              "      <td>250</td>\n",
              "      <td>0</td>\n",
              "      <td>1</td>\n",
              "      <td>187</td>\n",
              "      <td>0</td>\n",
              "      <td>3.5</td>\n",
              "      <td>0</td>\n",
              "      <td>1</td>\n",
              "      <td>0</td>\n",
              "      <td>0</td>\n",
              "      <td>1</td>\n",
              "      <td>0</td>\n",
              "      <td>0</td>\n",
              "      <td>0</td>\n",
              "      <td>1</td>\n",
              "      <td>0</td>\n",
              "      <td>1</td>\n",
              "      <td>0</td>\n",
              "      <td>0</td>\n",
              "    </tr>\n",
              "    <tr>\n",
              "      <th>2</th>\n",
              "      <td>41</td>\n",
              "      <td>0</td>\n",
              "      <td>130</td>\n",
              "      <td>204</td>\n",
              "      <td>0</td>\n",
              "      <td>0</td>\n",
              "      <td>172</td>\n",
              "      <td>0</td>\n",
              "      <td>1.4</td>\n",
              "      <td>0</td>\n",
              "      <td>1</td>\n",
              "      <td>0</td>\n",
              "      <td>1</td>\n",
              "      <td>0</td>\n",
              "      <td>0</td>\n",
              "      <td>0</td>\n",
              "      <td>0</td>\n",
              "      <td>1</td>\n",
              "      <td>0</td>\n",
              "      <td>0</td>\n",
              "      <td>0</td>\n",
              "      <td>1</td>\n",
              "    </tr>\n",
              "    <tr>\n",
              "      <th>3</th>\n",
              "      <td>56</td>\n",
              "      <td>1</td>\n",
              "      <td>120</td>\n",
              "      <td>236</td>\n",
              "      <td>0</td>\n",
              "      <td>1</td>\n",
              "      <td>178</td>\n",
              "      <td>0</td>\n",
              "      <td>0.8</td>\n",
              "      <td>0</td>\n",
              "      <td>1</td>\n",
              "      <td>0</td>\n",
              "      <td>1</td>\n",
              "      <td>0</td>\n",
              "      <td>0</td>\n",
              "      <td>0</td>\n",
              "      <td>0</td>\n",
              "      <td>1</td>\n",
              "      <td>0</td>\n",
              "      <td>0</td>\n",
              "      <td>0</td>\n",
              "      <td>1</td>\n",
              "    </tr>\n",
              "    <tr>\n",
              "      <th>4</th>\n",
              "      <td>57</td>\n",
              "      <td>0</td>\n",
              "      <td>120</td>\n",
              "      <td>354</td>\n",
              "      <td>0</td>\n",
              "      <td>1</td>\n",
              "      <td>163</td>\n",
              "      <td>1</td>\n",
              "      <td>0.6</td>\n",
              "      <td>0</td>\n",
              "      <td>1</td>\n",
              "      <td>1</td>\n",
              "      <td>0</td>\n",
              "      <td>0</td>\n",
              "      <td>0</td>\n",
              "      <td>0</td>\n",
              "      <td>0</td>\n",
              "      <td>1</td>\n",
              "      <td>0</td>\n",
              "      <td>0</td>\n",
              "      <td>0</td>\n",
              "      <td>1</td>\n",
              "    </tr>\n",
              "  </tbody>\n",
              "</table>\n",
              "</div>"
            ],
            "text/plain": [
              "   age  sex  trestbps  chol  fbs  ...  thal_2  thal_3  slope_0  slope_1  slope_2\n",
              "0   63    1       145   233    1  ...       0       0        1        0        0\n",
              "1   37    1       130   250    0  ...       1       0        1        0        0\n",
              "2   41    0       130   204    0  ...       1       0        0        0        1\n",
              "3   56    1       120   236    0  ...       1       0        0        0        1\n",
              "4   57    0       120   354    0  ...       1       0        0        0        1\n",
              "\n",
              "[5 rows x 22 columns]"
            ]
          },
          "metadata": {
            "tags": []
          },
          "execution_count": 25
        }
      ]
    },
    {
      "cell_type": "markdown",
      "metadata": {
        "id": "Oc_N7k0Pm1de",
        "colab_type": "text"
      },
      "source": [
        "# *Creating Model for Logistic Regression*\n",
        "\n",
        "We can use sklearn library or we can write functions ourselves. Let's them both. Firstly we will write our functions after that we'll use sklearn library to calculate score."
      ]
    },
    {
      "cell_type": "code",
      "metadata": {
        "id": "OZziHDYOnCvk",
        "colab_type": "code",
        "colab": {}
      },
      "source": [
        "y = df.target.values\n",
        "x_data = df.drop(['target'], axis = 1)"
      ],
      "execution_count": 30,
      "outputs": []
    },
    {
      "cell_type": "markdown",
      "metadata": {
        "id": "GiMUuNwxndV_",
        "colab_type": "text"
      },
      "source": [
        "*Normalizing the data*\n",
        "\n",
        "\n",
        "\n",
        "*   Rescaling data to have values between 0 and 1. This is usually called feature scaling. One possible formula to achieve this is:  "
      ]
    },
    {
      "cell_type": "markdown",
      "metadata": {
        "id": "IfK6LWjIpuNQ",
        "colab_type": "text"
      },
      "source": [
        "![normalize-data.png](data:image/png;base64,iVBORw0KGgoAAAANSUhEUgAAAJYAAAA3CAAAAADLKux1AAAD8klEQVRo3u2Yf0zUdRjHn2izgqZGY+TMVEgL21zZ5kzZYv2CjJqQWc7aWhogNG0Gc64fS6UIt5iBWQn4swOioHMEyCFEprAwwB8Ljx8GXAcCQckhyK/j1R+HhO6489p9775rvPf94/Y83+f5vvb5cZ/n+QiqlExhTWGpH8tYD2RO4uyrAE4ZXY61f5oILJZka87eu0S0HBJfN4xWqmTnZmWYrDsH5BGiTpW7Y23J05mTO1+WFDct+VXjyWRc666ZTshhN2HlSd3Yr0sdnRa19/z7pSg3YcVJ3OROzSIv92BtxX8mhkmcp4+kS0fP4ASLud0FWInmnL3EyZVia84T+TyPQQpyJxqrtyqPZRZ5H5pkpVXvAzIXuE2GXD6JF/QAFdadw4UAxh4gafVQ0DoCt3FwFhnzSJ9mUsWZ+OmmNs3Gvj2xtARQ+/BJPNVxVC84TEA+M3p4Zw9vP4Nhnh0sI9D1tytKA8vjAXc2sSHVJpaXSA5VcovSVN89StazJL5gQBoRkJIRm6M1IPMJz86wkTHY/0GL/Fb9d6yGP9C30toBev46AzX2duJ6OTBgM+NJ3XGLdBUuLAOrJcGxyLqPkxTQjqEbdqK84hjWD8+9pICCW6/HKrvfzn/FkjumW3R7oOsmsfujHKkzX7XxZv353yw63+girJYfeYoeyS5QV+cTKD5XwVuM6sIyfQbQUAPDX6whJQBM5Zu/qlxez/fahmg19Im5Yb9wK+YYEiKISmCGlkw1YIXEUBzC2qOavbAvrnfZsVJVdNXSzeNlyAgMkuXHst0tasCqug/kDE+8XpgBX+9gwX5V3EHoKyEPSDsLtMG5qRsb52EVr58fD59IvwMx5dELY+CIdCqHpTsgwvF7bH/ixgLpkKegv3u8A1dkEktF96GjMXWi2ab02hJvOwyfp40pebynFg+z0lghdjIUrgge09Lea7YIUXwnhovB4Zi35FeFsQ7WyE6HL5yq5U1lsS5uxmspjp2bl1/D3xftBEt/qDOxLsimFyFCEh2IaZcNoRAv711n/dOZWKM+rwLdc/qhsQhtHgU/AWXFzUOt33aRbj1o0Upg1LcTmvMp0fBzHi06U1tRb19Sn9MPn2N+es2c3i8fgi1XqoT26CdLF9sdbI/fS2Uwz5Mu4bK0Vyz5xulYH0SyO4Z3dxFTQlnIzeVNC0MbRmo0l/xpnlmLt/NH696jzC5ieh8+EJQDyKDdmBUpPLaPhQ1sj2d7EM1znV5BjAgjQtPs/gahVuq6hs++kdx0U5c3Qx4mZp3Gx8DGnQPOxqqMpCyWU9GjhMcSYt61hXOr7cUYQ6lfy8U1w4Q3sxwidf/3emsKawprcv0D/x56lFPCjv4AAAAASUVORK5CYII=)"
      ]
    },
    {
      "cell_type": "code",
      "metadata": {
        "id": "qKkoSa1npynI",
        "colab_type": "code",
        "colab": {}
      },
      "source": [
        "# Normailize the data\n",
        "x = (x_data - np.min(x_data))/(np.max(x_data) - np.min(x_data)).values"
      ],
      "execution_count": 32,
      "outputs": []
    },
    {
      "cell_type": "markdown",
      "metadata": {
        "id": "x6j-NXO2snVG",
        "colab_type": "text"
      },
      "source": [
        "We will split our data. 80% of our data will be train data and 20% of it will be test data."
      ]
    },
    {
      "cell_type": "code",
      "metadata": {
        "id": "55jv5tFMtfop",
        "colab_type": "code",
        "colab": {}
      },
      "source": [
        "x_train, x_test, y_train, y_test = train_test_split(x,y,test_size = 0.2,random_state=0)"
      ],
      "execution_count": 34,
      "outputs": []
    },
    {
      "cell_type": "code",
      "metadata": {
        "id": "ybg9laj7uf8N",
        "colab_type": "code",
        "colab": {}
      },
      "source": [
        "#transpose matrices\n",
        "x_train = x_train.T\n",
        "y_train = y_train.T\n",
        "x_test = x_test.T\n",
        "y_test = y_test.T"
      ],
      "execution_count": 35,
      "outputs": []
    },
    {
      "cell_type": "markdown",
      "metadata": {
        "id": "Dku5dHsjul9u",
        "colab_type": "text"
      },
      "source": [
        "Let's say weight = 0.01 and bias = 0.0"
      ]
    },
    {
      "cell_type": "code",
      "metadata": {
        "id": "yniCthVEupgU",
        "colab_type": "code",
        "colab": {}
      },
      "source": [
        "#initialize\n",
        "def initialize(dimension):\n",
        "    \n",
        "    weight = np.full((dimension,1),0.01)\n",
        "    bias = 0.0\n",
        "    return weight,bias"
      ],
      "execution_count": 36,
      "outputs": []
    },
    {
      "cell_type": "markdown",
      "metadata": {
        "id": "wNz_dRzjvBGT",
        "colab_type": "text"
      },
      "source": [
        "# *Sigmoid Function*\n",
        "\n",
        "\n",
        "*   **Discription** : A sigmoid function is a mathematical function having a characteristic \"S\"-shaped curve or sigmoid curve.\n",
        "\n"
      ]
    },
    {
      "cell_type": "markdown",
      "metadata": {
        "id": "aetArMS5vpAD",
        "colab_type": "text"
      },
      "source": [
        "![A-Basic-sigmoid-function-with-two-parameters-c1-and-c2-as-commonly-used-for-subitizing.png](data:image/png;base64,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)"
      ]
    },
    {
      "cell_type": "code",
      "metadata": {
        "id": "uwiilraGwUE4",
        "colab_type": "code",
        "colab": {}
      },
      "source": [
        "def sigmoid(z):\n",
        "    \n",
        "    y_head = 1/(1+ np.exp(-z))\n",
        "    return y_head"
      ],
      "execution_count": 37,
      "outputs": []
    }
  ]
}